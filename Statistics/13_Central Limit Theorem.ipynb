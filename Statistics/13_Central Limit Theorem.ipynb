{
 "cells": [
  {
   "attachments": {},
   "cell_type": "markdown",
   "metadata": {},
   "source": [
    "## Central Limit Theorem\n",
    "\n",
    "We will use the same dataset(IPL)"
   ]
  },
  {
   "cell_type": "code",
   "execution_count": 29,
   "metadata": {},
   "outputs": [],
   "source": [
    "import numpy as np\n",
    "import pandas as pd\n",
    "import matplotlib.pyplot as plt\n",
    "import seaborn as sns"
   ]
  },
  {
   "cell_type": "code",
   "execution_count": 30,
   "metadata": {},
   "outputs": [
    {
     "data": {
      "text/html": [
       "<div>\n",
       "<style scoped>\n",
       "    .dataframe tbody tr th:only-of-type {\n",
       "        vertical-align: middle;\n",
       "    }\n",
       "\n",
       "    .dataframe tbody tr th {\n",
       "        vertical-align: top;\n",
       "    }\n",
       "\n",
       "    .dataframe thead th {\n",
       "        text-align: right;\n",
       "    }\n",
       "</style>\n",
       "<table border=\"1\" class=\"dataframe\">\n",
       "  <thead>\n",
       "    <tr style=\"text-align: right;\">\n",
       "      <th></th>\n",
       "      <th>match_id</th>\n",
       "      <th>inning</th>\n",
       "      <th>batting_team</th>\n",
       "      <th>bowling_team</th>\n",
       "      <th>over</th>\n",
       "      <th>ball</th>\n",
       "      <th>batsman</th>\n",
       "      <th>non_striker</th>\n",
       "      <th>bowler</th>\n",
       "      <th>is_super_over</th>\n",
       "      <th>...</th>\n",
       "      <th>bye_runs</th>\n",
       "      <th>legbye_runs</th>\n",
       "      <th>noball_runs</th>\n",
       "      <th>penalty_runs</th>\n",
       "      <th>batsman_runs</th>\n",
       "      <th>extra_runs</th>\n",
       "      <th>total_runs</th>\n",
       "      <th>player_dismissed</th>\n",
       "      <th>dismissal_kind</th>\n",
       "      <th>fielder</th>\n",
       "    </tr>\n",
       "  </thead>\n",
       "  <tbody>\n",
       "    <tr>\n",
       "      <th>0</th>\n",
       "      <td>1</td>\n",
       "      <td>1</td>\n",
       "      <td>Sunrisers Hyderabad</td>\n",
       "      <td>Royal Challengers Bangalore</td>\n",
       "      <td>1</td>\n",
       "      <td>1</td>\n",
       "      <td>DA Warner</td>\n",
       "      <td>S Dhawan</td>\n",
       "      <td>TS Mills</td>\n",
       "      <td>0</td>\n",
       "      <td>...</td>\n",
       "      <td>0</td>\n",
       "      <td>0</td>\n",
       "      <td>0</td>\n",
       "      <td>0</td>\n",
       "      <td>0</td>\n",
       "      <td>0</td>\n",
       "      <td>0</td>\n",
       "      <td>NaN</td>\n",
       "      <td>NaN</td>\n",
       "      <td>NaN</td>\n",
       "    </tr>\n",
       "    <tr>\n",
       "      <th>1</th>\n",
       "      <td>1</td>\n",
       "      <td>1</td>\n",
       "      <td>Sunrisers Hyderabad</td>\n",
       "      <td>Royal Challengers Bangalore</td>\n",
       "      <td>1</td>\n",
       "      <td>2</td>\n",
       "      <td>DA Warner</td>\n",
       "      <td>S Dhawan</td>\n",
       "      <td>TS Mills</td>\n",
       "      <td>0</td>\n",
       "      <td>...</td>\n",
       "      <td>0</td>\n",
       "      <td>0</td>\n",
       "      <td>0</td>\n",
       "      <td>0</td>\n",
       "      <td>0</td>\n",
       "      <td>0</td>\n",
       "      <td>0</td>\n",
       "      <td>NaN</td>\n",
       "      <td>NaN</td>\n",
       "      <td>NaN</td>\n",
       "    </tr>\n",
       "    <tr>\n",
       "      <th>2</th>\n",
       "      <td>1</td>\n",
       "      <td>1</td>\n",
       "      <td>Sunrisers Hyderabad</td>\n",
       "      <td>Royal Challengers Bangalore</td>\n",
       "      <td>1</td>\n",
       "      <td>3</td>\n",
       "      <td>DA Warner</td>\n",
       "      <td>S Dhawan</td>\n",
       "      <td>TS Mills</td>\n",
       "      <td>0</td>\n",
       "      <td>...</td>\n",
       "      <td>0</td>\n",
       "      <td>0</td>\n",
       "      <td>0</td>\n",
       "      <td>0</td>\n",
       "      <td>4</td>\n",
       "      <td>0</td>\n",
       "      <td>4</td>\n",
       "      <td>NaN</td>\n",
       "      <td>NaN</td>\n",
       "      <td>NaN</td>\n",
       "    </tr>\n",
       "    <tr>\n",
       "      <th>3</th>\n",
       "      <td>1</td>\n",
       "      <td>1</td>\n",
       "      <td>Sunrisers Hyderabad</td>\n",
       "      <td>Royal Challengers Bangalore</td>\n",
       "      <td>1</td>\n",
       "      <td>4</td>\n",
       "      <td>DA Warner</td>\n",
       "      <td>S Dhawan</td>\n",
       "      <td>TS Mills</td>\n",
       "      <td>0</td>\n",
       "      <td>...</td>\n",
       "      <td>0</td>\n",
       "      <td>0</td>\n",
       "      <td>0</td>\n",
       "      <td>0</td>\n",
       "      <td>0</td>\n",
       "      <td>0</td>\n",
       "      <td>0</td>\n",
       "      <td>NaN</td>\n",
       "      <td>NaN</td>\n",
       "      <td>NaN</td>\n",
       "    </tr>\n",
       "    <tr>\n",
       "      <th>4</th>\n",
       "      <td>1</td>\n",
       "      <td>1</td>\n",
       "      <td>Sunrisers Hyderabad</td>\n",
       "      <td>Royal Challengers Bangalore</td>\n",
       "      <td>1</td>\n",
       "      <td>5</td>\n",
       "      <td>DA Warner</td>\n",
       "      <td>S Dhawan</td>\n",
       "      <td>TS Mills</td>\n",
       "      <td>0</td>\n",
       "      <td>...</td>\n",
       "      <td>0</td>\n",
       "      <td>0</td>\n",
       "      <td>0</td>\n",
       "      <td>0</td>\n",
       "      <td>0</td>\n",
       "      <td>2</td>\n",
       "      <td>2</td>\n",
       "      <td>NaN</td>\n",
       "      <td>NaN</td>\n",
       "      <td>NaN</td>\n",
       "    </tr>\n",
       "  </tbody>\n",
       "</table>\n",
       "<p>5 rows × 21 columns</p>\n",
       "</div>"
      ],
      "text/plain": [
       "   match_id  inning         batting_team                 bowling_team  over  \\\n",
       "0         1       1  Sunrisers Hyderabad  Royal Challengers Bangalore     1   \n",
       "1         1       1  Sunrisers Hyderabad  Royal Challengers Bangalore     1   \n",
       "2         1       1  Sunrisers Hyderabad  Royal Challengers Bangalore     1   \n",
       "3         1       1  Sunrisers Hyderabad  Royal Challengers Bangalore     1   \n",
       "4         1       1  Sunrisers Hyderabad  Royal Challengers Bangalore     1   \n",
       "\n",
       "   ball    batsman non_striker    bowler  is_super_over  ...  bye_runs  \\\n",
       "0     1  DA Warner    S Dhawan  TS Mills              0  ...         0   \n",
       "1     2  DA Warner    S Dhawan  TS Mills              0  ...         0   \n",
       "2     3  DA Warner    S Dhawan  TS Mills              0  ...         0   \n",
       "3     4  DA Warner    S Dhawan  TS Mills              0  ...         0   \n",
       "4     5  DA Warner    S Dhawan  TS Mills              0  ...         0   \n",
       "\n",
       "   legbye_runs  noball_runs  penalty_runs  batsman_runs  extra_runs  \\\n",
       "0            0            0             0             0           0   \n",
       "1            0            0             0             0           0   \n",
       "2            0            0             0             4           0   \n",
       "3            0            0             0             0           0   \n",
       "4            0            0             0             0           2   \n",
       "\n",
       "   total_runs  player_dismissed dismissal_kind fielder  \n",
       "0           0               NaN            NaN     NaN  \n",
       "1           0               NaN            NaN     NaN  \n",
       "2           4               NaN            NaN     NaN  \n",
       "3           0               NaN            NaN     NaN  \n",
       "4           2               NaN            NaN     NaN  \n",
       "\n",
       "[5 rows x 21 columns]"
      ]
     },
     "execution_count": 30,
     "metadata": {},
     "output_type": "execute_result"
    }
   ],
   "source": [
    "matches = pd.read_csv('matches.csv')\n",
    "deliveries = pd.read_csv('deliveries.csv')\n",
    "deliveries.head()"
   ]
  },
  {
   "cell_type": "code",
   "execution_count": 31,
   "metadata": {},
   "outputs": [
    {
     "name": "stderr",
     "output_type": "stream",
     "text": [
      "C:\\Users\\vivek\\AppData\\Local\\Temp\\ipykernel_5920\\277194955.py:1: FutureWarning: The default value of numeric_only in DataFrameGroupBy.sum is deprecated. In a future version, numeric_only will default to False. Either specify numeric_only or select only columns which should be valid for the function.\n",
      "  runs = deliveries.groupby('batsman').sum()['batsman_runs']\n"
     ]
    }
   ],
   "source": [
    "runs = deliveries.groupby('batsman').sum()['batsman_runs']"
   ]
  },
  {
   "cell_type": "code",
   "execution_count": 39,
   "metadata": {},
   "outputs": [
    {
     "data": {
      "text/plain": [
       "array([ 280,    4,   53,   25,   62,   35,  340,   34,   19,   41,    2,\n",
       "        974,    4,    5,   69,   12,  217,    9,  179,   42,   26,  123,\n",
       "       3486,  120, 2069,   20,  181,   79,  724,   20,  574,    7,   10,\n",
       "         49, 1604,   53,  401,  672, 3057,   36,    7,   34,   87,  339,\n",
       "         12,  606,    6,  194,   49, 2416,   39,    0,   63,   87,    7,\n",
       "         33,  388,   76,  280,  158,    4,  124,   35,    6,  316,    3,\n",
       "       2755,  125,    4,  124,    1,   18, 1400,  193,   23,   40,   28,\n",
       "        187,   15,   30,    0,  126,   21,  384,  390, 3651,  439,  521,\n",
       "         98,    3,    8,   16,    8,  971,  169,   95,   46,    4,    3,\n",
       "         33,  127,   10, 1563, 4014,   12,  304,  375,   21,  170, 1262,\n",
       "        111,  373, 1322,   92,    1,   39,  295,   14,  121,    6,   11,\n",
       "          4,    1, 1808,   19, 2385,   90,   18,  420,   13,  166,  854,\n",
       "         24,   14, 1295,    4,  183, 4132,   22,  739,    4,  280,  663,\n",
       "       1229,   15,  342,    2,  886,  406,  577,   47,  799,   18,   20,\n",
       "          7,   45,    0, 1150,   76,   18,   88,  319,   23,  409,   48,\n",
       "         29,   10,    6,  975,  528,  604,    5,  106,   42,    3,  327,\n",
       "       2427,   25,   59,   18,   26,   38, 1993,  527,  417,    8,   36,\n",
       "        218,   55,   12, 2354,   10,   51,   15, 1687, 2903,  480,   13,\n",
       "        116, 1158,  725,  893,    5,    2, 1001,  411,  317,   36,  128,\n",
       "          3,   12,   20,    0,   36,   34,   81,  302,    1,  106, 1079,\n",
       "         40,  405, 1017,    0,  259,  113,   73,  514,  126,   20,   11,\n",
       "         55, 2511,  957,    1,  814,   24,   96,  969,  125,  237,   14,\n",
       "       1977,  177,  151,   98,  189,  278,   63, 2223, 1648, 1107,   39,\n",
       "        112,  161,  167,  163,  225,  798, 3560,   99,   22,  394, 1112,\n",
       "          2,  117,    2,    3,   64,    2,   46,  437,  140,    0,   20,\n",
       "          1,   26,  424,   52,   23, 1553,  121,  506,    5,  127,  340,\n",
       "        353,    1,   19, 2322,  164,  505,  203,   77,   24,    1,  515,\n",
       "         16,   92,    6,   18,    7,   17,  726,  231,  342,   19,  153,\n",
       "       2174,  159,    3,   51,  270,   66,   19,   35,  304, 1732,  391,\n",
       "          3,   83,  159,    2, 4207,  117,   32,  103,  326,   52,    0,\n",
       "        564,   67,   20,   53,   73,  531,    2,    4,   91,   50, 3778,\n",
       "         11,  136,   59,   13, 1441,   25, 3561,   14,    9,    0,    0,\n",
       "         26,   37,   91,    2,  368,   34,   31,    3,  145,   15,  423,\n",
       "        608,   49,   28,    6,  131,    2, 1349,   99,    1, 2489,    5,\n",
       "       4548,   42,  198,   88,    9,  241,  147,   10,  177,    7,  196,\n",
       "        241,   38,  271, 1713, 2334, 2628,  807,    6, 1276,  768,  766,\n",
       "       1426,  226,   23,  137,  193,   26,   81,  500,    5,    1,    2,\n",
       "         52,   36,    0,   43,   12,   11,   11,   31,   12,    5,   10,\n",
       "         54,  676, 1153,  205,    8,   75,    8,    0,    7,  300,  127,\n",
       "         94,   39, 4423,    0, 2728,  101,   29,   46,    4,    7,    2,\n",
       "        282,   15,   19,  130,   56,   63, 1557,   81,    9,   10,   19,\n",
       "        285,  985,    0, 2922,   15,  192,   47,    3, 2591,  117],\n",
       "      dtype=int64)"
      ]
     },
     "execution_count": 39,
     "metadata": {},
     "output_type": "execute_result"
    }
   ],
   "source": [
    "runs"
   ]
  },
  {
   "cell_type": "code",
   "execution_count": 43,
   "metadata": {},
   "outputs": [
    {
     "name": "stderr",
     "output_type": "stream",
     "text": [
      "C:\\Users\\vivek\\AppData\\Local\\Temp\\ipykernel_5920\\1329827010.py:1: UserWarning: \n",
      "\n",
      "`distplot` is a deprecated function and will be removed in seaborn v0.14.0.\n",
      "\n",
      "Please adapt your code to use either `displot` (a figure-level function with\n",
      "similar flexibility) or `histplot` (an axes-level function for histograms).\n",
      "\n",
      "For a guide to updating your code to use the new functions, please see\n",
      "https://gist.github.com/mwaskom/de44147ed2974457ad6372750bbe5751\n",
      "\n",
      "  sns.distplot(runs)\n"
     ]
    },
    {
     "data": {
      "text/plain": [
       "<Axes: ylabel='Density'>"
      ]
     },
     "execution_count": 43,
     "metadata": {},
     "output_type": "execute_result"
    },
    {
     "data": {
      "image/png": "[encoded data removed]",
      "text/plain": [
       "<Figure size 640x480 with 1 Axes>"
      ]
     },
     "metadata": {},
     "output_type": "display_data"
    }
   ],
   "source": [
    "sns.distplot(runs)"
   ]
  },
  {
   "cell_type": "code",
   "execution_count": 44,
   "metadata": {},
   "outputs": [],
   "source": [
    "# note that this is not really a Normal Distribution\n",
    "# Most the batsman score very less runs, whereas there are a few batsman who have scored high runs"
   ]
  },
  {
   "cell_type": "code",
   "execution_count": 47,
   "metadata": {},
   "outputs": [
    {
     "data": {
      "text/plain": [
       "array([  95,   62,    1,    3,    2,    0,    4,   35,   20,  198,  187,\n",
       "        439, 2489,   34, 2334,  342,  241,    1,   24, 2728,    8,   42,\n",
       "         88,   40,   10, 2354,    3,   88, 1993,   33,    8,  340,  127,\n",
       "        103, 1808,    4,    9,  608,  124, 1262,    2,  672,   11,   95,\n",
       "         91,    3,    7,  373, 1713, 3651], dtype=int64)"
      ]
     },
     "execution_count": 47,
     "metadata": {},
     "output_type": "execute_result"
    }
   ],
   "source": [
    "# now we will sample from this data randomly\n",
    "# choose 50 samples from 461 points and repeat this process 1000 times\n",
    "np.random.choice(runs, size=50)"
   ]
  },
  {
   "cell_type": "code",
   "execution_count": 61,
   "metadata": {},
   "outputs": [],
   "source": [
    "m = 1000\n",
    "n = 50\n",
    "# creating an empty array\n",
    "new = []\n",
    "\n",
    "for i in range(m):\n",
    "    x = np.random.choice(runs, size=n)\n",
    "    new.append(x.mean())\n",
    "# now we have a randomly selected array with values from the deliveries dataset\n",
    "# convert the array to numpy array\n",
    "new = np.array(new)"
   ]
  },
  {
   "cell_type": "code",
   "execution_count": 62,
   "metadata": {},
   "outputs": [
    {
     "data": {
      "text/plain": [
       "<Axes: ylabel='Count'>"
      ]
     },
     "execution_count": 62,
     "metadata": {},
     "output_type": "execute_result"
    },
    {
     "data": {
      "image/png": "[encoded data removed]",
      "text/plain": [
       "<Figure size 640x480 with 1 Axes>"
      ]
     },
     "metadata": {},
     "output_type": "display_data"
    }
   ],
   "source": [
    "# if we plot new with histplot\n",
    "sns.histplot(new, kde=True)\n",
    "# now this is a Normal Distributions"
   ]
  },
  {
   "cell_type": "code",
   "execution_count": 68,
   "metadata": {},
   "outputs": [
    {
     "name": "stdout",
     "output_type": "stream",
     "text": [
      "398.9783080260304\n",
      "395.81318\n"
     ]
    }
   ],
   "source": [
    "# further, the means od runs(original array) and new(sampled array) should be very close or same\n",
    "print(runs.mean())\n",
    "print(new.mean())"
   ]
  },
  {
   "cell_type": "code",
   "execution_count": 71,
   "metadata": {},
   "outputs": [
    {
     "name": "stdout",
     "output_type": "stream",
     "text": [
      "12447.2908178876\n",
      "12311.660901652069\n"
     ]
    }
   ],
   "source": [
    "# variance(runs)/50 and varinace(new) should be very close\n",
    "print(new.var())\n",
    "print(runs.var()/50)\n",
    "# the same is true for STD, replace 50 with root(50)"
   ]
  }
 ],
 "metadata": {
  "kernelspec": {
   "display_name": "ds",
   "language": "python",
   "name": "python3"
  },
  "language_info": {
   "codemirror_mode": {
    "name": "ipython",
    "version": 3
   },
   "file_extension": ".py",
   "mimetype": "text/x-python",
   "name": "python",
   "nbconvert_exporter": "python",
   "pygments_lexer": "ipython3",
   "version": "3.11.3"
  },
  "orig_nbformat": 4
 },
 "nbformat": 4,
 "nbformat_minor": 2
}
